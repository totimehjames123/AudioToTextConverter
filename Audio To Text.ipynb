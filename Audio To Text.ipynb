{
 "cells": [
  {
   "cell_type": "code",
   "execution_count": 13,
   "id": "359c2742",
   "metadata": {},
   "outputs": [],
   "source": [
    "import speech_recognition as sr  "
   ]
  },
  {
   "cell_type": "code",
   "execution_count": 14,
   "id": "5f49b095",
   "metadata": {},
   "outputs": [],
   "source": [
    "filename = \"machine-learning_speech-recognition_16-122828-0002.wav\""
   ]
  },
  {
   "cell_type": "code",
   "execution_count": 15,
   "id": "8ec83e82",
   "metadata": {},
   "outputs": [],
   "source": [
    "r = sr.Recognizer()"
   ]
  },
  {
   "cell_type": "code",
   "execution_count": 16,
   "id": "e5cd444a",
   "metadata": {},
   "outputs": [
    {
     "name": "stdout",
     "output_type": "stream",
     "text": [
      "result2:\n",
      "{   'alternative': [   {   'confidence': 0.87621921,\n",
      "                           'transcript': 'I believe you are just talking '\n",
      "                                         'nonsense'},\n",
      "                       {'transcript': \"I believe you're just talking nonsense\"},\n",
      "                       {   'transcript': 'I believe you were just talking '\n",
      "                                         'nonsense'}],\n",
      "    'final': True}\n",
      "I believe you are just talking nonsense\n"
     ]
    }
   ],
   "source": [
    "with sr.AudioFile(filename) as source:\n",
    "    audio_data = r.record(source)\n",
    "    text = r.recognize_google(audio_data)\n",
    "    print(text)"
   ]
  },
  {
   "cell_type": "code",
   "execution_count": null,
   "id": "9aa7e8a1",
   "metadata": {},
   "outputs": [],
   "source": []
  }
 ],
 "metadata": {
  "kernelspec": {
   "display_name": "Python 3 (ipykernel)",
   "language": "python",
   "name": "python3"
  },
  "language_info": {
   "codemirror_mode": {
    "name": "ipython",
    "version": 3
   },
   "file_extension": ".py",
   "mimetype": "text/x-python",
   "name": "python",
   "nbconvert_exporter": "python",
   "pygments_lexer": "ipython3",
   "version": "3.9.12"
  }
 },
 "nbformat": 4,
 "nbformat_minor": 5
}
